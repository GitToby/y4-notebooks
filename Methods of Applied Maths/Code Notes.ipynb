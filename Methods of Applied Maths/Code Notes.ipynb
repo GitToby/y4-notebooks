{
 "cells": [
  {
   "cell_type": "markdown",
   "metadata": {},
   "source": [
    "# Applied maths notes (for writing up)"
   ]
  },
  {
   "cell_type": "markdown",
   "metadata": {},
   "source": [
    "### ex 2(b)\n",
    "$$\\ddot{x}+\\epsilon \\dot{x} = \\epsilon \\quad \\quad x(0)=1 \\quad \\dot{x(0)}=0$$\n",
    "\n",
    "Then we want to assume we have an expansion in the form\n",
    "$$x(t;\\epsilon)=x_0(t) +\\epsilon x_1(t) + \\epsilon^2 x_2(t)+\\ldots$$"
   ]
  },
  {
   "cell_type": "markdown",
   "metadata": {},
   "source": [
    "subbing this in gives:\n",
    "$$(\\ddot{x_0}(t) +\\epsilon \\ddot{x_1}(t) + \\epsilon^2 \\ddot{x_2}(t)+\\ldots) + \\epsilon (\\dot{x_0}(t) +\\epsilon \\dot{x_1}(t) + \\epsilon^2 \\dot{x_2}(t)+\\ldots) =\\epsilon$$\n",
    "and in the ICs:\n",
    "$$x_0(0) +\\epsilon x_1(0) + \\epsilon^2 x_2(0)+\\ldots=1 \\quad \\dot{x_0}(0) +\\epsilon \\dot{x_1}(0) + \\epsilon^2 \\dot{x_2}(0)+\\ldots=0$$"
   ]
  },
  {
   "cell_type": "markdown",
   "metadata": {},
   "source": [
    "Now we look for terms in orders of epsilon:\n",
    "$$O(1): \\ddot{x_0}=0 \\quad\\& \\quad x_0(0)=1 \\quad \\dot{x_0}(0)=0 \\qquad \\Rightarrow \\qquad x_0 = 1$$"
   ]
  },
  {
   "cell_type": "markdown",
   "metadata": {},
   "source": [
    "$$O(\\epsilon): \\ddot{x_1}(t)+\\dot{x_0}(t)=1 \\quad\\& \\quad x_1(0)=0 \\quad \\dot{x_1}(0)=0 \\qquad $$"
   ]
  },
  {
   "cell_type": "markdown",
   "metadata": {},
   "source": [
    " $$\\ddot{x_1}(t)+\\dot{x_0}(t)=1 \\Rightarrow \\ddot{x_1}(t)+0=1 \\Rightarrow \\ddot{x_1}(t)=1 \\Rightarrow \\ddot{x_1}(t)=\\frac{t^2}{2} +At + B$$"
   ]
  },
  {
   "cell_type": "markdown",
   "metadata": {},
   "source": [
    "Then by the ICs it can be shown that: \n",
    "$$x_1=\\frac{t^2}{2}$$"
   ]
  },
  {
   "cell_type": "markdown",
   "metadata": {},
   "source": [
    "and further analysis gives \n",
    "$$x_2 = $$\n",
    "to give \n",
    "$$x(t;\\epsilon)=1+\\epsilon \\frac{t^2}{2}+\\epsilon^2 +.... $$"
   ]
  },
  {
   "cell_type": "markdown",
   "metadata": {},
   "source": [
    "## example 2.5\n",
    "\n",
    "$f(x)\\approx \\sum \\frac{a_n}{x^n}$ and $\\frac{1}{f(x)} \\approx \\sum b_n \\,  x^{-n}$\n",
    "\n",
    "we can then use the recursive identity given in the notes to calculate each of the terms $b_n$\n",
    "\n",
    "$$b_0 = lim_{x\\rightarrow \\infty}{\\frac{1}{f(x)}} = lim_{x\\rightarrow \\infty}{\\frac{1}{\\sum a_n\\times x^{-n}}} =  lim_{x\\rightarrow \\infty}{\\frac{1}{a_0+\\frac{a_1}{a_0x}}}=\\frac{1}{a_0}$$"
   ]
  },
  {
   "cell_type": "markdown",
   "metadata": {},
   "source": [
    "Then \n",
    "$$b_1 = lim_{x\\rightarrow \\infty}{[x(\\frac{1}{a_0}(1+\\frac{a_1}{a_0x}+\\frac{a_2}{a_0x^2}+...)^{-1})-\\frac{1}{a_0}]}=-\\frac{a_1}{a_0^2}$$"
   ]
  },
  {
   "cell_type": "markdown",
   "metadata": {},
   "source": [
    "Therfor we can get an expression for $f(x)$\n",
    "$$\\frac{1}{f(x)} \\approx \\frac{1}{a_0}-\\frac{a_1}{a_0^2x}+... \\qquad \\text{ as } x \\rightarrow \\infty$$\n"
   ]
  }
 ],
 "metadata": {
  "kernelspec": {
   "display_name": "Python 3",
   "language": "python",
   "name": "python3"
  },
  "language_info": {
   "codemirror_mode": {
    "name": "ipython",
    "version": 3
   },
   "file_extension": ".py",
   "mimetype": "text/x-python",
   "name": "python",
   "nbconvert_exporter": "python",
   "pygments_lexer": "ipython3",
   "version": "3.6.0"
  }
 },
 "nbformat": 4,
 "nbformat_minor": 2
}

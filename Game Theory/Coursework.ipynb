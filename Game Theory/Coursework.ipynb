{
 "cells": [
  {
   "cell_type": "code",
   "execution_count": 100,
   "metadata": {
    "collapsed": false
   },
   "outputs": [],
   "source": [
    "%matplotlib inline\n",
    "import numpy as np\n",
    "import matplotlib.pyplot as plt\n",
    "import sympy as sym\n",
    "sym.init_printing()"
   ]
  },
  {
   "cell_type": "markdown",
   "metadata": {},
   "source": [
    "# CW Proposal\n",
    "\n",
    "Creating a visual representation of [best responses and nash equilibria](https://vknight.org/gt/chapters/04/); looking into 2d spaces in detail and how this could be expanded into 3d."
   ]
  },
  {
   "cell_type": "markdown",
   "metadata": {},
   "source": [
    "From the syntax in the notes it is shown that we can represent a stratergy space, $S$, of a player as $\\sigma_r = (x,1-x)$ or $\\sigma_c = (y,1-y)$ depending on if were talking about a row player or a column player repectivly. In this example we will be looking at both players at the same time and discussing how we identify the best moves for each."
   ]
  },
  {
   "cell_type": "markdown",
   "metadata": {},
   "source": [
    "For example, we are playing as the row player and will have play off matrix $A$ and a set of stratergies $\\sigma_r = (x,1-x)$. If we are given the mixed stratergy $\\sigma_c = (y,1-y)$ how can we visualise the expected utility of our stratergy $(x,1-x)$ more effectivly? Depending on what is selected for $y$ we want to see what its like for given values of $x$."
   ]
  },
  {
   "cell_type": "markdown",
   "metadata": {},
   "source": [
    "This leads to the construction of a function of 2 variables to describe how a players expected utility can change. it can also visually show where on the plane the nash equlibria is and what it \"looks\" like. We can look at this for a veriety of games (and possibly building an interactive tool); For example lets take the example of the adjusted matching pennies game:"
   ]
  },
  {
   "cell_type": "markdown",
   "metadata": {},
   "source": [
    "$$A=\n",
    "\\begin{pmatrix}\n",
    "2 & -2 \\\\\n",
    "-1 & 1\n",
    "\\end{pmatrix}\n",
    "\\quad\n",
    "B=\n",
    "\\begin{pmatrix}\n",
    "-2 & 2 \\\\\n",
    "1 & -1\n",
    "\\end{pmatrix}\n",
    "$$"
   ]
  },
  {
   "cell_type": "markdown",
   "metadata": {},
   "source": [
    "And we also have \n",
    "$$\\sigma_r = (x,1-x) \\quad \\sigma_c = (y,1-y)$$"
   ]
  },
  {
   "cell_type": "markdown",
   "metadata": {},
   "source": [
    "The expected utility or the row player, $u_r$ is given as:\n",
    "$$u_r=\\sigma_r A \\sigma_c^T$$\n",
    "or:\n",
    "$$\n",
    "\\begin{align}\n",
    "u_r & = \n",
    "\\begin{pmatrix}\n",
    "x & 1-x\n",
    "\\end{pmatrix} \n",
    "\\begin{pmatrix}\n",
    "2 & -2 \\\\\n",
    "-1 & 1\n",
    "\\end{pmatrix} \n",
    "\\begin{pmatrix}\n",
    "y\\\\\n",
    "1-y\n",
    "\\end{pmatrix}\\\\ \n",
    "    & = [3x−1,−3x+1] \\begin{pmatrix}\n",
    "y\\\\\n",
    "1-y\n",
    "\\end{pmatrix} \\\\\n",
    "    & = y(3x−1)+(−3x+1)(−y+1)\\\\\n",
    "    & = 6xy−3x−2y+1\n",
    "\\end{align}$$"
   ]
  },
  {
   "cell_type": "markdown",
   "metadata": {},
   "source": [
    "Using this we can then plot what this looks like using a 2d heatmap with the players expected utility coloured depending on what their opponent may do. We can also generalise this case to a generic utlity matrix M; the funcitons `get_expression()` and `f()` below shows how this can be done using a package called sympy."
   ]
  },
  {
   "cell_type": "code",
   "execution_count": 125,
   "metadata": {
    "collapsed": true
   },
   "outputs": [],
   "source": [
    "x=np.arange(0,1,0.01)\n",
    "y=np.arange(0,1,0.01)\n",
    "X,Y=np.meshgrid(x,y)\n",
    "\n",
    "def getExpression(M):\n",
    "    a, b = sym.symbols('a, b')\n",
    "    A = sym.Matrix(M)\n",
    "    sigma_r = sym.Matrix([[a, 1-a]])\n",
    "    sigma_c = sym.Matrix([b, 1-b])\n",
    "    res=(sigma_r * A *  sigma_c)[0]\n",
    "    funct = sym.lambdify((a,b), res)\n",
    "    return funct\n",
    "\n",
    "def f(x,y,M):\n",
    "    funct = getExpression(M)\n",
    "    return funct(x,y)\n",
    "\n",
    "def get_contr_plot(M, title, subplot_loc):\n",
    "    plt.subplot(subplot_loc)\n",
    "    Z = f(X,Y,M)\n",
    "#     plt.contourf(X,Y,Z,np.arange(np.amin(Z)-0.1,np.amax(Z)+0.1,0.5),cmap='RdYlGn')\n",
    "    plt.contourf(X,Y,Z,cmap='RdYlGn')\n",
    "    plt.colorbar()\n",
    "    plt.title(title)\n",
    "    plt.xlabel(\"x\")\n",
    "    plt.ylabel(\"y\")"
   ]
  },
  {
   "cell_type": "markdown",
   "metadata": {},
   "source": [
    "Below are expected utility heatmaps showing utilities for 2 games: \n",
    " * **G1** is the matching pennies game (zero sum):$\\quad A=\\begin{pmatrix}1&-1\\\\-1&1\\end{pmatrix}\\quad B=-A$\n",
    " * **G2** is a made up game that could represent any situation (not-zero sum): $\\quad A=\\begin{pmatrix}1&4\\\\-3&2\\end{pmatrix}\\quad B=\\begin{pmatrix}5&2\\\\-1&9\\end{pmatrix}$"
   ]
  },
  {
   "cell_type": "code",
   "execution_count": 129,
   "metadata": {
    "collapsed": false
   },
   "outputs": [
    {
     "data": {
      "image/png": "[encoded data removed]",
      "text/plain": [
       "<matplotlib.figure.Figure at 0x1aed014d0f0>"
      ]
     },
     "metadata": {},
     "output_type": "display_data"
    }
   ],
   "source": [
    "A = np.array([[1,-1],[-1,1]])\n",
    "B = np.array([[-1,1],[1,-1]])\n",
    "A2 = np.array([[1,4],[-3,2]])\n",
    "B2 = np.array([[5,2],[-1,9]])\n",
    "\n",
    "plt.figure(figsize=(14,3))\n",
    "get_contr_plot(A,\"G1: Row Player\",141)\n",
    "get_contr_plot(B,\"G1: Col Player\",142)\n",
    "get_contr_plot(A2,\"G2: Row Player\",143)\n",
    "get_contr_plot(B2,\"G2: Col Player\",144)\n",
    "plt.tight_layout()"
   ]
  },
  {
   "cell_type": "markdown",
   "metadata": {},
   "source": [
    "This map can be thought of as a function $f(a,b,c,d,x,y)= axy−bxy+bx−cxy+cy+dxy−dx−dy+d$. (This is just the expansion of the matix eqn $u=\\sigma_r M \\sigma_c^T$ for an arbitrary $M$). Recall the definition of a best response:\n",
    "$$\\text{A best response } \\sigma^*_r \\text{ is one where: } \\sigma^*_r = argmax_{\\sigma_r \\in S_r}(\\sigma_r M \\sigma_c^T)$$\n",
    "We can look at this in the context of $f$ with a fixed $a,b,c,d$; by looking at the partial derivatives of $f$ & finding stationary points we can find the location of these best responses analytically:"
   ]
  },
  {
   "cell_type": "markdown",
   "metadata": {},
   "source": [
    "### Points to cover:\n",
    "    - visual proof of best response\n",
    "    - nash equilibria\n",
    "    - nondegenerate stratergy"
   ]
  },
  {
   "cell_type": "code",
   "execution_count": null,
   "metadata": {
    "collapsed": true
   },
   "outputs": [],
   "source": []
  },
  {
   "cell_type": "code",
   "execution_count": null,
   "metadata": {
    "collapsed": true
   },
   "outputs": [],
   "source": []
  },
  {
   "cell_type": "code",
   "execution_count": 138,
   "metadata": {
    "collapsed": false
   },
   "outputs": [
    {
     "data": {
      "image/png": "[encoded data removed]",
      "text/latex": [
       "$$a x y - b x y + b x - c x y + c y + d x y - d x - d y + d$$"
      ],
      "text/plain": [
       "a⋅x⋅y - b⋅x⋅y + b⋅x - c⋅x⋅y + c⋅y + d⋅x⋅y - d⋅x - d⋅y + d"
      ]
     },
     "execution_count": 138,
     "metadata": {},
     "output_type": "execute_result"
    }
   ],
   "source": [
    "a,b,c,d,x,y = sym.symbols('a,b,c,d,x,y')\n",
    "M = sym.Matrix([[a,b],[c,d]])\n",
    "sigma_r = sym.Matrix([[x, 1-x]])\n",
    "sigma_c = sym.Matrix([y, 1-y])\n",
    "eqn=((sigma_r * M) *sigma_c).expand()[0]\n",
    "eqn"
   ]
  },
  {
   "cell_type": "code",
   "execution_count": 141,
   "metadata": {
    "collapsed": false
   },
   "outputs": [
    {
     "data": {
      "image/png": "[encoded data removed]",
      "text/latex": [
       "$$a y - b y + b - c y + d y - d$$"
      ],
      "text/plain": [
       "a⋅y - b⋅y + b - c⋅y + d⋅y - d"
      ]
     },
     "execution_count": 141,
     "metadata": {},
     "output_type": "execute_result"
    }
   ],
   "source": [
    "eqnDx = eqn.diff(x)\n",
    "eqnDx"
   ]
  },
  {
   "cell_type": "code",
   "execution_count": 139,
   "metadata": {
    "collapsed": true
   },
   "outputs": [],
   "source": [
    "eqnDy = eqn.diff(y)\n"
   ]
  },
  {
   "cell_type": "code",
   "execution_count": 144,
   "metadata": {
    "collapsed": false
   },
   "outputs": [
    {
     "data": {
      "image/png": "[encoded data removed]",
      "text/latex": [
       "$$- x y - x + 4 y + 1$$"
      ],
      "text/plain": [
       "-x⋅y - x + 4⋅y + 1"
      ]
     },
     "execution_count": 144,
     "metadata": {},
     "output_type": "execute_result"
    }
   ],
   "source": [
    "eqn2 = eqn.subs([(a,3),(b,0),(c,5),(d,1)])\n",
    "eqn2 "
   ]
  },
  {
   "cell_type": "code",
   "execution_count": 147,
   "metadata": {
    "collapsed": false
   },
   "outputs": [
    {
     "ename": "TypeError",
     "evalue": "unsupported operand type(s) for ^: 'Mul' and 'Add'",
     "output_type": "error",
     "traceback": [
      "\u001b[0;31m---------------------------------------------------------------------------\u001b[0m",
      "\u001b[0;31mTypeError\u001b[0m                                 Traceback (most recent call last)",
      "\u001b[0;32m<ipython-input-147-9219b1ebc888>\u001b[0m in \u001b[0;36m<module>\u001b[0;34m()\u001b[0m\n\u001b[1;32m      1\u001b[0m \u001b[0mx\u001b[0m \u001b[1;33m=\u001b[0m \u001b[0msym\u001b[0m\u001b[1;33m.\u001b[0m\u001b[0msymbols\u001b[0m\u001b[1;33m(\u001b[0m\u001b[1;34m'x'\u001b[0m\u001b[1;33m)\u001b[0m\u001b[1;33m\u001b[0m\u001b[0m\n\u001b[0;32m----> 2\u001b[0;31m \u001b[0mf\u001b[0m \u001b[1;33m=\u001b[0m \u001b[1;33m(\u001b[0m\u001b[1;36m3\u001b[0m\u001b[1;33m/\u001b[0m\u001b[1;36m5\u001b[0m\u001b[1;33m)\u001b[0m\u001b[1;33m(\u001b[0m\u001b[1;33m(\u001b[0m\u001b[1;36m1\u001b[0m\u001b[1;33m/\u001b[0m\u001b[1;36m20\u001b[0m\u001b[1;33m)\u001b[0m\u001b[1;33m*\u001b[0m\u001b[0mx\u001b[0m\u001b[1;33m^\u001b[0m\u001b[1;36m5\u001b[0m\u001b[1;33m+\u001b[0m\u001b[1;33m(\u001b[0m\u001b[1;36m1\u001b[0m\u001b[1;33m/\u001b[0m\u001b[1;36m12\u001b[0m\u001b[1;33m)\u001b[0m\u001b[1;33m*\u001b[0m\u001b[0mx\u001b[0m\u001b[1;33m^\u001b[0m\u001b[1;36m4\u001b[0m\u001b[1;33m)\u001b[0m\u001b[1;33m\u001b[0m\u001b[0m\n\u001b[0m",
      "\u001b[0;31mTypeError\u001b[0m: unsupported operand type(s) for ^: 'Mul' and 'Add'"
     ]
    }
   ],
   "source": []
  }
 ],
 "metadata": {
  "kernelspec": {
   "display_name": "Python 3",
   "language": "python",
   "name": "python3"
  },
  "language_info": {
   "codemirror_mode": {
    "name": "ipython",
    "version": 3
   },
   "file_extension": ".py",
   "mimetype": "text/x-python",
   "name": "python",
   "nbconvert_exporter": "python",
   "pygments_lexer": "ipython3",
   "version": "3.6.0"
  }
 },
 "nbformat": 4,
 "nbformat_minor": 2
}

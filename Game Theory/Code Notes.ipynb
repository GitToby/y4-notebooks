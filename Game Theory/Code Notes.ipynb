{
 "cells": [
  {
   "cell_type": "code",
   "execution_count": 20,
   "metadata": {
    "collapsed": false
   },
   "outputs": [],
   "source": [
    "%matplotlib inline\n",
    "import nash\n",
    "import random \n",
    "import numpy as np\n",
    "import pandas as pd\n",
    "import matplotlib.pyplot as plt\n",
    "import sympy as sym\n",
    "from mpl_toolkits.mplot3d import axes3d\n",
    "sym.init_printing()\n"
   ]
  },
  {
   "cell_type": "code",
   "execution_count": 2,
   "metadata": {
    "collapsed": false
   },
   "outputs": [
    {
     "data": {
      "text/plain": [
       "Bi matrix game with payoff matrices:\n",
       "\n",
       "Row player:\n",
       "[[3 1]\n",
       " [0 2]]\n",
       "\n",
       "Column player:\n",
       "[[2 1]\n",
       " [0 3]]"
      ]
     },
     "execution_count": 2,
     "metadata": {},
     "output_type": "execute_result"
    }
   ],
   "source": [
    "A = [[3,1],[0,2]]\n",
    "B = [[2,1],[0,3]]\n",
    "\n",
    "battle = nash.Game(A,B)\n",
    "battle"
   ]
  },
  {
   "cell_type": "code",
   "execution_count": 3,
   "metadata": {
    "collapsed": false
   },
   "outputs": [],
   "source": [
    "x=0.5\n",
    "y=0.1\n",
    "\n",
    "a = np.array([[2,-2],[-1,100]])\n",
    "b = -a\n",
    "\n",
    "sig_r = np.array([x,1-x])\n",
    "sig_c = np.array([y,1-y])\n",
    "\n",
    "tmp_a = np.dot(sig_r,a)\n",
    "tmp_b = np.dot(sig_r,b)\n",
    "exp_a = np.dot(tmp_a,sig_c)\n",
    "exp_b = np.dot(tmp_b,sig_c)"
   ]
  },
  {
   "cell_type": "code",
   "execution_count": 4,
   "metadata": {
    "collapsed": false
   },
   "outputs": [
    {
     "name": "stdout",
     "output_type": "stream",
     "text": [
      "44.15 -44.15\n"
     ]
    }
   ],
   "source": [
    "print(exp_a,exp_b)"
   ]
  },
  {
   "cell_type": "code",
   "execution_count": 5,
   "metadata": {
    "collapsed": true
   },
   "outputs": [],
   "source": [
    "a2 = np.array([[1,-1],[-3,1]])\n",
    "b2 = np.array([[1-1,2],[1,-1]])"
   ]
  },
  {
   "cell_type": "code",
   "execution_count": 6,
   "metadata": {
    "collapsed": false
   },
   "outputs": [
    {
     "name": "stdout",
     "output_type": "stream",
     "text": [
      "player a: -1.08\n",
      "player b: 0.32\n"
     ]
    }
   ],
   "source": [
    "r=(.2,.8)\n",
    "c=np.array((.6,.4))\n",
    "\n",
    "print(\"player a:\",np.dot(r,np.dot(a2,c)))\n",
    "print(\"player b:\",np.dot(r,np.dot(b2,c)))"
   ]
  },
  {
   "cell_type": "code",
   "execution_count": 7,
   "metadata": {
    "collapsed": false
   },
   "outputs": [
    {
     "name": "stdout",
     "output_type": "stream",
     "text": [
      "player a: -0.04\n",
      "player b: 0.06\n"
     ]
    }
   ],
   "source": [
    "r=(.3,.7)\n",
    "c=(.2,.8)\n",
    "print(\"player a:\",np.dot(r,np.dot(a2,c)))\n",
    "print(\"player b:\",np.dot(r,np.dot(b2,c)))"
   ]
  },
  {
   "cell_type": "code",
   "execution_count": 8,
   "metadata": {
    "collapsed": false
   },
   "outputs": [
    {
     "name": "stdout",
     "output_type": "stream",
     "text": [
      "player a: -0.1\n",
      "player b: 0.9\n"
     ]
    }
   ],
   "source": [
    "r=(.9,.1)\n",
    "c=(.5,.5)\n",
    "print(\"player a:\",np.dot(r,np.dot(a2,c)))\n",
    "print(\"player b:\",np.dot(r,np.dot(b2,c)))"
   ]
  },
  {
   "cell_type": "markdown",
   "metadata": {},
   "source": [
    "--------------\n",
    "## CW Proposal\n",
    "\n",
    "Creating a visual representation of [best responses and nash equilibria](https://vknight.org/gt/chapters/04/); looking into 2d spaces in detail and how this could be expanded into 3d.\n",
    "\n",
    "From the syntax in the notes it is shown that we can represent a stratergy space, $S$, of a player as $\\sigma_r = (x,1-x)$ or $\\sigma_c = (y,1-y)$ depending on if were talking about a row player or a column player repectivly. In this example we will be looking at both players at the same time and discussing how we identify the best moves for each.\n",
    "\n",
    "For example, we are playing as the row player and will have play off matrix $A$ and a set of stratergies $\\sigma_r = (x,1-x)$. If we are given the mixed stratergy $\\sigma_c = (y,1-y)$ how can we visualise the expected utility of our stratergy $(x,1-x)$ more effectivly? Depending on what is selected for $y$ we want to see what its like for given values of $x$.\n",
    "\n",
    "This leads to the construction of a function of 2 variables to describe how a players expected utility can change. it can also visually show where on the plane the nash equlibria is and what it \"looks\" like. We can look at this for a veriety of games (and possibly building an interactive tool); For example lets take the example of the adjusted matching pennies game:\n",
    "\n",
    "$$A=\n",
    "\\begin{pmatrix}\n",
    "2 & -2 \\\\\n",
    "-1 & 1\n",
    "\\end{pmatrix}\n",
    "\\quad\n",
    "B=\n",
    "\\begin{pmatrix}\n",
    "-2 & 2 \\\\\n",
    "1 & -1\n",
    "\\end{pmatrix}\n",
    "$$\n",
    "And we also have \n",
    "\n",
    "$$\\sigma_r = (x,1-x) \\quad \\sigma_c = (y,1-y)$$\n",
    "\n",
    "The expected utility or the row player, $u_r$ is given as:\n",
    "$$u_r=\\sigma_r A \\sigma_c^T$$\n",
    "or:\n",
    "$$\n",
    "\\begin{align}\n",
    "u_r & = \n",
    "\\begin{pmatrix}\n",
    "x & 1-x\n",
    "\\end{pmatrix} \n",
    "\\begin{pmatrix}\n",
    "2 & -2 \\\\\n",
    "-1 & 1\n",
    "\\end{pmatrix} \n",
    "\\begin{pmatrix}\n",
    "y\\\\\n",
    "1-y\n",
    "\\end{pmatrix}\\\\ \n",
    "    & = [3x−1−3x+1] \\begin{pmatrix}\n",
    "y\\\\\n",
    "1-y\n",
    "\\end{pmatrix} \\\\\n",
    "    & = y(3x−1)+(−3x+1)(−y+1)\\\\\n",
    "    & = 6xy−3x−2y+1\n",
    "\\end{align}$$\n",
    "\n",
    "Using this we can then plot what this looks like using a 2d heatmap with the players expected utility coloured depending on what their opponent may do:"
   ]
  },
  {
   "cell_type": "code",
   "execution_count": 219,
   "metadata": {
    "collapsed": false
   },
   "outputs": [
    {
     "data": {
      "text/plain": [
       "<matplotlib.text.Text at 0x2756bd63208>"
      ]
     },
     "execution_count": 219,
     "metadata": {},
     "output_type": "execute_result"
    },
    {
     "data": {
      "image/png": "[encoded data removed]",
      "text/plain": [
       "<matplotlib.figure.Figure at 0x2756b504ac8>"
      ]
     },
     "metadata": {},
     "output_type": "display_data"
    }
   ],
   "source": [
    "x=np.arange(0,1,0.01)\n",
    "y=np.arange(0,1,0.01)\n",
    "X,Y=np.meshgrid(x,y)\n",
    "\n",
    "\n",
    "def coin_flip_row_utility(x,y):\n",
    "    return 6*x*y-3*x-2*y+1\n",
    "\n",
    "plt.figure(figsize=(5,5))\n",
    "plt.contourf(X,Y,coin_flip_row_utility(X,Y),cmap='RdYlGn')\n",
    "plt.colorbar()\n",
    "plt.title(\"Expected utility heatmap for row utilities for: $\\sigma_r=(x,1-x) \\quad \\sigma_c=(y,1-y)$\")\n",
    "plt.xlabel(\"x\")\n",
    "plt.ylabel(\"y\")"
   ]
  },
  {
   "cell_type": "markdown",
   "metadata": {},
   "source": [
    "For example here we can see that of the opponent plays with $\\sigma_c=(y,1-y)=(0,1)$ it is obvious that "
   ]
  },
  {
   "cell_type": "markdown",
   "metadata": {},
   "source": [
    "----------------"
   ]
  },
  {
   "cell_type": "code",
   "execution_count": 202,
   "metadata": {
    "collapsed": false
   },
   "outputs": [
    {
     "data": {
      "image/png": "[encoded data removed]",
      "text/latex": [
       "$$\\left[\\begin{matrix}6 x y - 3 x - 2 y + 1\\end{matrix}\\right]$$"
      ],
      "text/plain": [
       "[6⋅x⋅y - 3⋅x - 2⋅y + 1]"
      ]
     },
     "execution_count": 202,
     "metadata": {},
     "output_type": "execute_result"
    }
   ],
   "source": [
    "x, y = sym.symbols('x, y')\n",
    "a,b,c,d = sym.symbols('a, b, c, d')\n",
    "# A = sym.Matrix([[a,b],[c,d]])\n",
    "A = sym.Matrix([[2,-2],[-1,1]])\n",
    "sigma_r = sym.Matrix([[x, 1-x]])\n",
    "sigma_c = sym.Matrix([y, 1-y])\n",
    "((sigma_r * A) *sigma_c).expand()"
   ]
  },
  {
   "cell_type": "code",
   "execution_count": 157,
   "metadata": {
    "collapsed": false
   },
   "outputs": [],
   "source": [
    "a, b = sym.symbols('a, b')\n",
    "A = sym.Matrix([[2, -2], [-1, 1]])\n",
    "B = - A\n",
    "sigma_r = sym.Matrix([[a, 1-a]])\n",
    "sigma_c = sym.Matrix([b, 1-b])\n",
    "res=(sigma_r * A *  sigma_c)[0]\n",
    "funct = sym.lambdify((x,y), res)"
   ]
  },
  {
   "cell_type": "code",
   "execution_count": 158,
   "metadata": {
    "collapsed": false
   },
   "outputs": [
    {
     "data": {
      "image/png": "[encoded data removed]",
      "text/latex": [
       "$$b \\left(3 a - 1\\right) + \\left(- 3 a + 1\\right) \\left(- b + 1\\right)$$"
      ],
      "text/plain": [
       "b⋅(3⋅a - 1) + (-3⋅a + 1)⋅(-b + 1)"
      ]
     },
     "execution_count": 158,
     "metadata": {},
     "output_type": "execute_result"
    }
   ],
   "source": [
    "res.subs([(x,1),(y,1)])"
   ]
  },
  {
   "cell_type": "code",
   "execution_count": 159,
   "metadata": {
    "collapsed": false
   },
   "outputs": [
    {
     "data": {
      "image/png": "[encoded data removed]",
      "text/latex": [
       "$$b \\left(3 a - 1\\right) + \\left(- 3 a + 1\\right) \\left(- b + 1\\right)$$"
      ],
      "text/plain": [
       "b⋅(3⋅a - 1) + (-3⋅a + 1)⋅(-b + 1)"
      ]
     },
     "execution_count": 159,
     "metadata": {},
     "output_type": "execute_result"
    }
   ],
   "source": [
    "funct(1,1)"
   ]
  },
  {
   "cell_type": "code",
   "execution_count": 160,
   "metadata": {
    "collapsed": false
   },
   "outputs": [],
   "source": [
    "def getExpression(M):\n",
    "    a, b = sym.symbols('a, b')\n",
    "    A = sym.Matrix(M)\n",
    "    sigma_r = sym.Matrix([[a, 1-a]])\n",
    "    sigma_c = sym.Matrix([b, 1-b])\n",
    "    res=(sigma_r * A *  sigma_c)[0]\n",
    "    funct = sym.lambdify((a,b), res)\n",
    "    return funct\n",
    "\n",
    "def f2(x,y,M):\n",
    "    funct = getExpression(M)\n",
    "    return funct(x,y)"
   ]
  },
  {
   "cell_type": "code",
   "execution_count": 163,
   "metadata": {
    "collapsed": false
   },
   "outputs": [
    {
     "name": "stdout",
     "output_type": "stream",
     "text": [
      "old [[ 1.      0.97    0.94   ..., -1.91   -1.94   -1.97  ]\n",
      " [ 0.98    0.9506  0.9212 ..., -1.8718 -1.9012 -1.9306]\n",
      " [ 0.96    0.9312  0.9024 ..., -1.8336 -1.8624 -1.8912]\n",
      " ..., \n",
      " [-0.94   -0.9118 -0.8836 ...,  1.7954  1.8236  1.8518]\n",
      " [-0.96   -0.9312 -0.9024 ...,  1.8336  1.8624  1.8912]\n",
      " [-0.98   -0.9506 -0.9212 ...,  1.8718  1.9012  1.9306]]\n",
      "new [[-1.     -0.97   -0.94   ...,  1.91    1.94    1.97  ]\n",
      " [-0.98   -0.9506 -0.9212 ...,  1.8718  1.9012  1.9306]\n",
      " [-0.96   -0.9312 -0.9024 ...,  1.8336  1.8624  1.8912]\n",
      " ..., \n",
      " [ 0.94    0.9118  0.8836 ..., -1.7954 -1.8236 -1.8518]\n",
      " [ 0.96    0.9312  0.9024 ..., -1.8336 -1.8624 -1.8912]\n",
      " [ 0.98    0.9506  0.9212 ..., -1.8718 -1.9012 -1.9306]]\n"
     ]
    }
   ],
   "source": [
    "print(\"old\",f(X,Y))\n",
    "print(\"new\",f2(X,Y,[[-2,2],[1,-1]]))"
   ]
  },
  {
   "cell_type": "code",
   "execution_count": 169,
   "metadata": {
    "collapsed": false
   },
   "outputs": [],
   "source": [
    "A = \n",
    "B=-A"
   ]
  },
  {
   "cell_type": "code",
   "execution_count": 1,
   "metadata": {
    "collapsed": false,
    "scrolled": true
   },
   "outputs": [
    {
     "ename": "NameError",
     "evalue": "name 'np' is not defined",
     "output_type": "error",
     "traceback": [
      "\u001b[0;31m---------------------------------------------------------------------------\u001b[0m",
      "\u001b[0;31mNameError\u001b[0m                                 Traceback (most recent call last)",
      "\u001b[0;32m<ipython-input-1-a9e1c5eecba5>\u001b[0m in \u001b[0;36m<module>\u001b[0;34m()\u001b[0m\n\u001b[1;32m      1\u001b[0m \u001b[1;31m# Assuming a zero sum game\u001b[0m\u001b[1;33m\u001b[0m\u001b[1;33m\u001b[0m\u001b[0m\n\u001b[0;32m----> 2\u001b[0;31m \u001b[0mA\u001b[0m \u001b[1;33m=\u001b[0m \u001b[0mnp\u001b[0m\u001b[1;33m.\u001b[0m\u001b[0marray\u001b[0m\u001b[1;33m(\u001b[0m\u001b[1;33m[\u001b[0m\u001b[1;33m[\u001b[0m\u001b[1;33m-\u001b[0m\u001b[1;36m2\u001b[0m\u001b[1;33m,\u001b[0m\u001b[1;36m1\u001b[0m\u001b[1;33m]\u001b[0m\u001b[1;33m,\u001b[0m\u001b[1;33m[\u001b[0m\u001b[1;36m1\u001b[0m\u001b[1;33m,\u001b[0m\u001b[1;33m-\u001b[0m\u001b[1;36m1\u001b[0m\u001b[1;33m]\u001b[0m\u001b[1;33m]\u001b[0m\u001b[1;33m)\u001b[0m\u001b[1;33m\u001b[0m\u001b[0m\n\u001b[0m\u001b[1;32m      3\u001b[0m \u001b[0mB\u001b[0m \u001b[1;33m=\u001b[0m \u001b[0mnp\u001b[0m\u001b[1;33m.\u001b[0m\u001b[0marray\u001b[0m\u001b[1;33m(\u001b[0m\u001b[1;33m[\u001b[0m\u001b[1;33m[\u001b[0m\u001b[1;36m3\u001b[0m\u001b[1;33m,\u001b[0m\u001b[1;36m1\u001b[0m\u001b[1;33m]\u001b[0m\u001b[1;33m,\u001b[0m\u001b[1;33m[\u001b[0m\u001b[1;36m1\u001b[0m\u001b[1;33m,\u001b[0m\u001b[1;36m4\u001b[0m\u001b[1;33m]\u001b[0m\u001b[1;33m]\u001b[0m\u001b[1;33m)\u001b[0m\u001b[1;33m\u001b[0m\u001b[0m\n\u001b[1;32m      4\u001b[0m \u001b[0mprint\u001b[0m\u001b[1;33m(\u001b[0m\u001b[1;34m\"A is given as\"\u001b[0m\u001b[1;33m)\u001b[0m\u001b[1;33m\u001b[0m\u001b[0m\n\u001b[1;32m      5\u001b[0m \u001b[0mprint\u001b[0m\u001b[1;33m(\u001b[0m\u001b[0mA\u001b[0m\u001b[1;33m)\u001b[0m\u001b[1;33m\u001b[0m\u001b[0m\n",
      "\u001b[0;31mNameError\u001b[0m: name 'np' is not defined"
     ]
    }
   ],
   "source": [
    "# Assuming a zero sum game\n",
    "A = np.array([[-2,1],[1,-1]])\n",
    "B = np.array([[3,1],[1,4]])\n",
    "print(\"A is given as\")\n",
    "print(A)\n",
    "\n",
    "plt.figure(figsize=(5,5))\n",
    "plt.subplot(121)\n",
    "plt.contourf(X,Y,f2(X,Y,A),cmap='RdYlGn')\n",
    "plt.colorbar()\n",
    "plt.title(\"Expected utility heatmap for row utilities for: $\\sigma_r=(x,1-x) \\quad \\sigma_c=(y,1-y)$\")\n",
    "plt.xlabel(\"x\")\n",
    "plt.ylabel(\"y\")\n",
    "\n",
    "plt.subplot(122)\n",
    "plt.contourf(X,Y,f2(X,Y,B),cmap='RdYlGn')\n",
    "plt.colorbar()\n",
    "plt.title(\"Expected utility heatmap for col utilities for: $\\sigma_r=(x,1-x) \\quad \\sigma_c=(y,1-y)$\")\n",
    "plt.xlabel(\"x\")\n",
    "plt.ylabel(\"y\")\n",
    "\n",
    "plt.tight_layout()\n"
   ]
  },
  {
   "cell_type": "code",
   "execution_count": null,
   "metadata": {
    "collapsed": true
   },
   "outputs": [],
   "source": [
    "plt.contourf(X,Y,f(X,Y),cmap='RdYlGn')\n",
    "plt.colorbar()\n",
    "plt.title(\"Expected utility heatmap for row utilities for: $\\sigma_r=(x,1-x) \\quad \\sigma_c=(y,1-y)$\")\n",
    "plt.xlabel(\"x\")\n",
    "plt.ylabel(\"y\")\n",
    "print(\"B is given as\")\n",
    "print(B)"
   ]
  }
 ],
 "metadata": {
  "kernelspec": {
   "display_name": "Python 3",
   "language": "python",
   "name": "python3"
  },
  "language_info": {
   "codemirror_mode": {
    "name": "ipython",
    "version": 3
   },
   "file_extension": ".py",
   "mimetype": "text/x-python",
   "name": "python",
   "nbconvert_exporter": "python",
   "pygments_lexer": "ipython3",
   "version": "3.6.0"
  }
 },
 "nbformat": 4,
 "nbformat_minor": 2
}

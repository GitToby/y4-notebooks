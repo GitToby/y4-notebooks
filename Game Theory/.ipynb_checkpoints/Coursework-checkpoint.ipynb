{
 "cells": [
  {
   "cell_type": "markdown",
   "metadata": {},
   "source": [
    "# CW Proposal\n",
    "\n",
    "Creating a visual representation of [best responses and nash equilibria](https://vknight.org/gt/chapters/04/); looking into 2d spaces in detail and how this could be expanded into 3d.\n",
    "\n",
    "From the syntax in the notes it is shown that we can represent a stratergy space, $S$, of a player as $\\sigma_r = (x,1-x)$ or $\\sigma_c = (y,1-y)$ depending on if were talking about a row player or a column player repectivly. In this example we will be looking at both players at the same time and discussing how we identify the best moves for each.\n",
    "\n",
    "For example, we are playing as the row player and will have play off matrix $A$ and a set of stratergies $\\sigma_r = (x,1-x)$. If we are given the mixed stratergy $\\sigma_c = (y,1-y)$ how can we visualise the expected utility of our stratergy $(x,1-x)$ more effectivly? Depending on what is selected for $y$ we want to see what its like for given values of $x$.\n",
    "\n",
    "This leads to the construction of a function of 2 variables to describe how a players expected utility can change. it can also visually show where on the plane the nash equlibria is and what it \"looks\" like. We can look at this for a veriety of games (and possibly building an interactive tool); For example lets take the example of the adjusted matching pennies game:\n",
    "\n",
    "$$A=\n",
    "\\begin{pmatrix}\n",
    "2 & -2 \\\\\n",
    "-1 & 1\n",
    "\\end{pmatrix}\n",
    "\\quad\n",
    "B=\n",
    "\\begin{pmatrix}\n",
    "-2 & 2 \\\\\n",
    "1 & -1\n",
    "\\end{pmatrix}\n",
    "$$\n",
    "And we also have \n",
    "\n",
    "$$\\sigma_r = (x,1-x) \\quad \\sigma_c = (y,1-y)$$\n",
    "\n",
    "The expected utility or the row player, $u_r$ is given as:\n",
    "$$u_r=\\sigma_r A \\sigma_c^T$$\n",
    "or:\n",
    "$$\n",
    "\\begin{align}\n",
    "u_r & = \n",
    "\\begin{pmatrix}\n",
    "x & 1-x\n",
    "\\end{pmatrix} \n",
    "\\begin{pmatrix}\n",
    "2 & -2 \\\\\n",
    "-1 & 1\n",
    "\\end{pmatrix} \n",
    "\\begin{pmatrix}\n",
    "y\\\\\n",
    "1-y\n",
    "\\end{pmatrix}\\\\ \n",
    "    & = [3x−1−3x+1] \\begin{pmatrix}\n",
    "y\\\\\n",
    "1-y\n",
    "\\end{pmatrix} \\\\\n",
    "    & = y(3x−1)+(−3x+1)(−y+1)\\\\\n",
    "    & = 6xy−3x−2y+1\n",
    "\\end{align}$$\n",
    "\n",
    "Using this we can then plot what this looks like using a 2d heatmap with the players expected utility coloured depending on what their opponent may do:"
   ]
  }
 ],
 "metadata": {
  "kernelspec": {
   "display_name": "Python 3",
   "language": "python",
   "name": "python3"
  },
  "language_info": {
   "codemirror_mode": {
    "name": "ipython",
    "version": 3
   },
   "file_extension": ".py",
   "mimetype": "text/x-python",
   "name": "python",
   "nbconvert_exporter": "python",
   "pygments_lexer": "ipython3",
   "version": "3.6.0"
  }
 },
 "nbformat": 4,
 "nbformat_minor": 2
}

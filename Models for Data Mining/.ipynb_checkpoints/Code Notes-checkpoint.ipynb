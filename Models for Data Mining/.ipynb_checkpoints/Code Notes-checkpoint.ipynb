{
 "cells": [
  {
   "cell_type": "markdown",
   "metadata": {},
   "source": [
    "## These are the notes for  Data Mining"
   ]
  },
  {
   "cell_type": "markdown",
   "metadata": {},
   "source": [
    "### lecture 0\n",
    "We have so far covered:\n",
    "#### Berforini Principle:\n",
    " > Suppose you have a certain amount of data, and you look for\n",
    "events of a certain type within that data.\n",
    "> You can expect events of this type to occur, even if the data is completely random, and the number of occurrences of these events will grow as the size of the data grows.\n",
    "> These occurrences are \"bogus\", in the sense that they have no cause other than that random data will always have some number of unusual features that look significant but aren’t.\n",
    " \n",
    "#### Data Structure:\n",
    "  <table align=\"Left\">\n",
    "  <tr>\n",
    "    <th>/</th>\n",
    "    <th>atribute2</th>\n",
    "    <th>atribute3</th>\n",
    "    <th>...</th>\n",
    "  </tr>\n",
    "  <tr>\n",
    "    <td>item1</td>\n",
    "    <td>x</td>\n",
    "    <td>x</td>\n",
    "    <th>...</th>\n",
    "  </tr>\n",
    "  <tr>\n",
    "    <td>item2</td>\n",
    "    <td>x</td>\n",
    "    <td>x</td>\n",
    "    <th>...</th>\n",
    "  </tr>\n",
    "</table> "
   ]
  },
  {
   "cell_type": "code",
   "execution_count": null,
   "metadata": {
    "collapsed": true
   },
   "outputs": [],
   "source": []
  },
  {
   "cell_type": "code",
   "execution_count": null,
   "metadata": {
    "collapsed": true
   },
   "outputs": [],
   "source": []
  },
  {
   "cell_type": "code",
   "execution_count": null,
   "metadata": {
    "collapsed": true
   },
   "outputs": [],
   "source": []
  },
  {
   "cell_type": "code",
   "execution_count": null,
   "metadata": {
    "collapsed": true
   },
   "outputs": [],
   "source": []
  },
  {
   "cell_type": "code",
   "execution_count": null,
   "metadata": {
    "collapsed": true
   },
   "outputs": [],
   "source": []
  },
  {
   "cell_type": "code",
   "execution_count": null,
   "metadata": {
    "collapsed": true
   },
   "outputs": [],
   "source": []
  }
 ],
 "metadata": {
  "kernelspec": {
   "display_name": "Python 3",
   "language": "python",
   "name": "python3"
  },
  "language_info": {
   "codemirror_mode": {
    "name": "ipython",
    "version": 3
   },
   "file_extension": ".py",
   "mimetype": "text/x-python",
   "name": "python",
   "nbconvert_exporter": "python",
   "pygments_lexer": "ipython3",
   "version": "3.6.0"
  }
 },
 "nbformat": 4,
 "nbformat_minor": 2
}
